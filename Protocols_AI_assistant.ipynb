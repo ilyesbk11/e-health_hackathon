{
  "nbformat": 4,
  "nbformat_minor": 0,
  "metadata": {
    "colab": {
      "provenance": []
    },
    "kernelspec": {
      "name": "python3",
      "display_name": "Python 3"
    },
    "language_info": {
      "name": "python"
    }
  },
  "cells": [
    {
      "cell_type": "code",
      "execution_count": 2,
      "metadata": {
        "id": "L21pzk2B-_cY"
      },
      "outputs": [],
      "source": [
        "import pandas as pd\n",
        "import numpy as np\n",
        "from sklearn.model_selection import train_test_split, cross_val_score\n",
        "from sklearn.preprocessing import LabelEncoder, StandardScaler\n",
        "from sklearn.ensemble import RandomForestClassifier\n",
        "from sklearn.svm import SVC\n",
        "from sklearn.neighbors import KNeighborsClassifier\n",
        "from sklearn.tree import DecisionTreeClassifier\n",
        "from sklearn.metrics import classification_report, accuracy_score\n",
        "from tabulate import tabulate\n",
        "import time\n",
        "# Set display options to show all columns and rows\n",
        "pd.set_option('display.max_columns', None)\n",
        "pd.set_option('display.max_rows', None)"
      ]
    },
    {
      "cell_type": "code",
      "source": [
        "df = pd.read_csv(\"/content/Protocols_dataset.csv\")"
      ],
      "metadata": {
        "id": "s8t6aFCP_BOH"
      },
      "execution_count": 3,
      "outputs": []
    },
    {
      "cell_type": "code",
      "source": [
        "# Print the shape of the data\n",
        "print(\"Shape of the data:\", df.shape)\n",
        "\n",
        "# Print a brief description of the data\n",
        "print(f\"The data contains {df.shape[0]} rows and {df.shape[1]} columns.\")"
      ],
      "metadata": {
        "colab": {
          "base_uri": "https://localhost:8080/"
        },
        "id": "TAkEwGj7_wWa",
        "outputId": "759ab86c-1048-43f6-93e0-89312df93b22"
      },
      "execution_count": 4,
      "outputs": [
        {
          "output_type": "stream",
          "name": "stdout",
          "text": [
            "Shape of the data: (4327, 13)\n",
            "The data contains 4327 rows and 13 columns.\n"
          ]
        }
      ]
    },
    {
      "cell_type": "code",
      "source": [
        "classifiers  = [\n",
        "    ('Random Forest', RandomForestClassifier(n_estimators=100, random_state=42)),\n",
        "    ('SVM', SVC(kernel='linear', C=1)),\n",
        "    ('K-Nearest Neighbors', KNeighborsClassifier(n_neighbors=5)),\n",
        "    ('Decision Tree', DecisionTreeClassifier(random_state=42))\n",
        "]\n",
        "\n",
        "\n",
        "results_table = []\n",
        "advantages = {\n",
        "    'Random Forest': 'Ensemble d\\'arbres de décision, robuste contre le surajustement, gère bien la non-linéarité',\n",
        "    'SVM': 'Efficace dans les espaces de grande dimension, adapté aux problèmes linéaires et non linéaires',\n",
        "    'K-Nearest Neighbors': 'Simple et intuitif, pas de temps d\\'entraînement, peut gérer des problèmes multi-classes',\n",
        "    'Decision Tree': 'Interprétable, gère à la fois les données numériques et catégorielles, utile pour la sélection de fonctionnalités'\n",
        "}\n",
        "\n",
        "for classifier_name, classifier in classifiers:\n",
        "    start_time = time.time()\n",
        "\n",
        "\n",
        "    X = df.drop(columns=['Protocole'])  # Features\n",
        "    y = df['Protocole']  # Target variable\n",
        "\n",
        "\n",
        "    categorical_features = ['sexe', 'motif d\\'admission', 'type de greffe']\n",
        "    label_encoders = {}\n",
        "    for feature in categorical_features:\n",
        "        label_encoders[feature] = LabelEncoder()\n",
        "        X[feature] = label_encoders[feature].fit_transform(X[feature])\n",
        "\n",
        "    X['date de début de conditionnement/admission'] = pd.to_datetime(X['date de début de conditionnement/admission'])\n",
        "    X['date de la greffe/début du protocole'] = pd.to_datetime(X['date de la greffe/début du protocole'])\n",
        "\n",
        "    X['start_year'] = X['date de début de conditionnement/admission'].dt.year\n",
        "    X['start_month'] = X['date de début de conditionnement/admission'].dt.month\n",
        "    X['start_day'] = X['date de début de conditionnement/admission'].dt.day\n",
        "    X['protocol_start_year'] = X['date de la greffe/début du protocole'].dt.year\n",
        "    X['protocol_start_month'] = X['date de la greffe/début du protocole'].dt.month\n",
        "    X['protocol_start_day'] = X['date de la greffe/début du protocole'].dt.day\n",
        "\n",
        "    X = X.drop(columns=['date de début de conditionnement/admission', 'date de la greffe/début du protocole'])\n",
        "\n",
        "    numerical_features = ['age', 'poids', 'taille', 'surface corporelle', 'IMC', 'creatinine plasmatique', 'clairance creatinine', 'start_year', 'start_month', 'start_day', 'protocol_start_year', 'protocol_start_month', 'protocol_start_day']\n",
        "    scaler = StandardScaler()\n",
        "    X[numerical_features] = scaler.fit_transform(X[numerical_features])\n",
        "\n",
        "    X_train, X_test, y_train, y_test = train_test_split(X, y, test_size=0.2, random_state=42)\n",
        "\n",
        "    classifier.fit(X_train, y_train)\n",
        "\n",
        "    y_pred = classifier.predict(X_test)\n",
        "\n",
        "    accuracy = accuracy_score(y_test, y_pred)\n",
        "\n",
        "    end_time = time.time()\n",
        "    runtime = end_time - start_time\n",
        "\n",
        "    details = f\"Number of Classes: {len(np.unique(y_test))}, Model: {classifier_name}\\nRuntime: {runtime:.2f} seconds\\nAdvantage: {advantages[classifier_name]}\"\n",
        "\n",
        "    results_table.append([classifier_name, accuracy, details])\n",
        "\n",
        "headers = [\"Modèle\", \"Précision\", \"Détails\"]\n",
        "print(tabulate(results_table, headers=headers, tablefmt=\"grid\"))"
      ],
      "metadata": {
        "colab": {
          "base_uri": "https://localhost:8080/"
        },
        "id": "ykJpadvrAUCd",
        "outputId": "4053148b-3441-41f0-93a7-39b535b43164"
      },
      "execution_count": 6,
      "outputs": [
        {
          "output_type": "stream",
          "name": "stdout",
          "text": [
            "+---------------------+-------------+------------------------------------------------------------------------------------------------------------------------------+\n",
            "| Modèle              |   Précision | Détails                                                                                                                      |\n",
            "+=====================+=============+==============================================================================================================================+\n",
            "| Random Forest       |    0.839492 | Number of Classes: 8, Model: Random Forest                                                                                   |\n",
            "|                     |             | Runtime: 1.01 seconds                                                                                                        |\n",
            "|                     |             | Advantage: Ensemble d'arbres de décision, robuste contre le surajustement, gère bien la non-linéarité                        |\n",
            "+---------------------+-------------+------------------------------------------------------------------------------------------------------------------------------+\n",
            "| SVM                 |    0.859122 | Number of Classes: 8, Model: SVM                                                                                             |\n",
            "|                     |             | Runtime: 0.27 seconds                                                                                                        |\n",
            "|                     |             | Advantage: Efficace dans les espaces de grande dimension, adapté aux problèmes linéaires et non linéaires                    |\n",
            "+---------------------+-------------+------------------------------------------------------------------------------------------------------------------------------+\n",
            "| K-Nearest Neighbors |    0.614319 | Number of Classes: 8, Model: K-Nearest Neighbors                                                                             |\n",
            "|                     |             | Runtime: 0.14 seconds                                                                                                        |\n",
            "|                     |             | Advantage: Simple et intuitif, pas de temps d'entraînement, peut gérer des problèmes multi-classes                           |\n",
            "+---------------------+-------------+------------------------------------------------------------------------------------------------------------------------------+\n",
            "| Decision Tree       |    0.777136 | Number of Classes: 8, Model: Decision Tree                                                                                   |\n",
            "|                     |             | Runtime: 0.08 seconds                                                                                                        |\n",
            "|                     |             | Advantage: Interprétable, gère à la fois les données numériques et catégorielles, utile pour la sélection de fonctionnalités |\n",
            "+---------------------+-------------+------------------------------------------------------------------------------------------------------------------------------+\n"
          ]
        }
      ]
    }
  ]
}